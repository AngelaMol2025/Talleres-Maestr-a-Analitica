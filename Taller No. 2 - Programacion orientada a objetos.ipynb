{
 "cells": [
  {
   "cell_type": "code",
   "execution_count": 1,
   "id": "3061c5ce-27d1-4493-a137-72b099a890af",
   "metadata": {},
   "outputs": [],
   "source": [
    "class Carta:\n",
    "   def __init__(self, palo, identificador):\n",
    "       self.palo = palo\n",
    "       self.identificador = identificador\n",
    "   def __str__(self):\n",
    "       return f\"{self.identificador} de {self.palo}\"\n",
    "   def __repr__(self):\n",
    "       return self.__str__()"
   ]
  },
  {
   "cell_type": "code",
   "execution_count": 4,
   "id": "8053b2c3-c8ce-47c8-b8b7-205ec6083780",
   "metadata": {},
   "outputs": [],
   "source": [
    "import random\n",
    "class Baraja:\n",
    "   \n",
    "   PALOS = [\"Trébol\", \"Diamante\", \"Pica\", \"Corazón\"]\n",
    "   IDENTIFICADORES = [\"A\"] + [str(i) for i in range(2, 11)] + [\"J\", \"Q\", \"K\"]\n",
    "   def __init__(self):\n",
    "      \n",
    "       self.cartas = [Carta(palo, iden) for palo in self.PALOS for iden in self.IDENTIFICADORES]\n",
    "   def __str__(self):\n",
    "       return \", \".join(str(carta) for carta in self.cartas)\n",
    "   def barajar(self):\n",
    "       \"\"\"Mezcla las cartas de la baraja aleatoriamente.\"\"\"\n",
    "       random.shuffle(self.cartas)\n",
    "   def ordenar(self):\n",
    "       \"\"\"Ordena la baraja según el orden especificado.\"\"\"\n",
    "       self.cartas.sort(key=lambda carta: (self.PALOS.index(carta.palo), self.IDENTIFICADORES.index(carta.identificador)))"
   ]
  },
  {
   "cell_type": "code",
   "execution_count": 5,
   "id": "083b280d-ed87-4bc5-928d-fcf7e9591c59",
   "metadata": {},
   "outputs": [
    {
     "name": "stdout",
     "output_type": "stream",
     "text": [
      "Baraja ordenada:\n",
      "A de Trébol, 2 de Trébol, 3 de Trébol, 4 de Trébol, 5 de Trébol, 6 de Trébol, 7 de Trébol, 8 de Trébol, 9 de Trébol, 10 de Trébol, J de Trébol, Q de Trébol, K de Trébol, A de Diamante, 2 de Diamante, 3 de Diamante, 4 de Diamante, 5 de Diamante, 6 de Diamante, 7 de Diamante, 8 de Diamante, 9 de Diamante, 10 de Diamante, J de Diamante, Q de Diamante, K de Diamante, A de Pica, 2 de Pica, 3 de Pica, 4 de Pica, 5 de Pica, 6 de Pica, 7 de Pica, 8 de Pica, 9 de Pica, 10 de Pica, J de Pica, Q de Pica, K de Pica, A de Corazón, 2 de Corazón, 3 de Corazón, 4 de Corazón, 5 de Corazón, 6 de Corazón, 7 de Corazón, 8 de Corazón, 9 de Corazón, 10 de Corazón, J de Corazón, Q de Corazón, K de Corazón\n",
      "\n",
      "Baraja barajada:\n",
      "A de Diamante, Q de Diamante, K de Diamante, K de Trébol, 10 de Pica, 9 de Trébol, 7 de Diamante, Q de Corazón, A de Trébol, J de Diamante, 5 de Corazón, 5 de Trébol, 6 de Corazón, 3 de Diamante, A de Corazón, 3 de Corazón, 2 de Trébol, 7 de Corazón, Q de Pica, 4 de Diamante, 8 de Diamante, 7 de Pica, 3 de Trébol, 2 de Corazón, 2 de Diamante, 5 de Pica, J de Pica, 6 de Trébol, 8 de Corazón, 8 de Pica, 8 de Trébol, J de Corazón, 9 de Diamante, K de Pica, 6 de Pica, 9 de Corazón, 4 de Pica, 7 de Trébol, 5 de Diamante, 10 de Trébol, 3 de Pica, J de Trébol, 10 de Corazón, Q de Trébol, 2 de Pica, 9 de Pica, 6 de Diamante, 10 de Diamante, K de Corazón, 4 de Corazón, 4 de Trébol, A de Pica\n",
      "\n",
      "Baraja ordenada otra vez:\n",
      "A de Trébol, 2 de Trébol, 3 de Trébol, 4 de Trébol, 5 de Trébol, 6 de Trébol, 7 de Trébol, 8 de Trébol, 9 de Trébol, 10 de Trébol, J de Trébol, Q de Trébol, K de Trébol, A de Diamante, 2 de Diamante, 3 de Diamante, 4 de Diamante, 5 de Diamante, 6 de Diamante, 7 de Diamante, 8 de Diamante, 9 de Diamante, 10 de Diamante, J de Diamante, Q de Diamante, K de Diamante, A de Pica, 2 de Pica, 3 de Pica, 4 de Pica, 5 de Pica, 6 de Pica, 7 de Pica, 8 de Pica, 9 de Pica, 10 de Pica, J de Pica, Q de Pica, K de Pica, A de Corazón, 2 de Corazón, 3 de Corazón, 4 de Corazón, 5 de Corazón, 6 de Corazón, 7 de Corazón, 8 de Corazón, 9 de Corazón, 10 de Corazón, J de Corazón, Q de Corazón, K de Corazón\n"
     ]
    }
   ],
   "source": [
    "mi_baraja = Baraja()\n",
    "\n",
    "print(\"Baraja ordenada:\")\n",
    "print(mi_baraja)\n",
    "\n",
    "mi_baraja.barajar()\n",
    "print(\"\\nBaraja barajada:\")\n",
    "print(mi_baraja)\n",
    "\n",
    "mi_baraja.ordenar()\n",
    "print(\"\\nBaraja ordenada otra vez:\")\n",
    "print(mi_baraja)"
   ]
  },
  {
   "cell_type": "code",
   "execution_count": 8,
   "id": "b1e1ee4f-b40d-4755-be4f-6ed8d1191b73",
   "metadata": {},
   "outputs": [],
   "source": [
    "import random\n",
    "from dataclasses import dataclass\n",
    "@dataclass\n",
    "class Carta:\n",
    "   \"\"\"Clase que representa una carta de la baraja francesa.\"\"\"\n",
    "   palo: str\n",
    "   identificador: str\n",
    "   def __str__(self):\n",
    "       return f\"{self.identificador} de {self.palo}\"\n",
    "class Baraja:\n",
    "   \"\"\"Clase que representa una baraja de 52 cartas con métodos para manipularla.\"\"\"\n",
    "   PALOS = [\"Trébol\", \"Diamante\", \"Pica\", \"Corazón\"]\n",
    "   IDENTIFICADORES = [\"A\"] + [str(i) for i in range(2, 11)] + [\"J\", \"Q\", \"K\"]\n",
    "   def __init__(self):\n",
    "       \"\"\"Inicializa una baraja con 52 cartas ordenadas.\"\"\"\n",
    "       self.cartas = [Carta(palo, iden) for palo in self.PALOS for iden in self.IDENTIFICADORES]\n",
    "   def __str__(self):\n",
    "       return \", \".join(str(carta) for carta in self.cartas)\n",
    "   def barajar(self):\n",
    "       \"\"\"Baraja las cartas aleatoriamente.\"\"\"\n",
    "       random.shuffle(self.cartas)\n",
    "   def ordenar(self):\n",
    "       \"\"\"Ordena la baraja según el orden especificado de palos e identificadores.\"\"\"\n",
    "       self.cartas.sort(key=lambda carta: (self.PALOS.index(carta.palo), self.IDENTIFICADORES.index(carta.identificador)))\n",
    "   def robar_carta(self):\n",
    "       \"\"\"Roba una carta del mazo (la última de la lista).\"\"\"\n",
    "       if not self.cartas:\n",
    "           print(\"No quedan cartas en la baraja.\")\n",
    "           return None\n",
    "       return self.cartas.pop()\n",
    "   def reiniciar_baraja(self):\n",
    "       \"\"\"Reinicia la baraja con las 52 cartas originales y la ordena.\"\"\"\n",
    "       self.__init__() \n",
    "       self.ordenar()"
   ]
  },
  {
   "cell_type": "code",
   "execution_count": 9,
   "id": "a624d82c-53ec-48b7-b524-92dddeb18383",
   "metadata": {},
   "outputs": [
    {
     "name": "stdout",
     "output_type": "stream",
     "text": [
      "Baraja ordenada:\n",
      "A de Trébol, 2 de Trébol, 3 de Trébol, 4 de Trébol, 5 de Trébol, 6 de Trébol, 7 de Trébol, 8 de Trébol, 9 de Trébol, 10 de Trébol, J de Trébol, Q de Trébol, K de Trébol, A de Diamante, 2 de Diamante, 3 de Diamante, 4 de Diamante, 5 de Diamante, 6 de Diamante, 7 de Diamante, 8 de Diamante, 9 de Diamante, 10 de Diamante, J de Diamante, Q de Diamante, K de Diamante, A de Pica, 2 de Pica, 3 de Pica, 4 de Pica, 5 de Pica, 6 de Pica, 7 de Pica, 8 de Pica, 9 de Pica, 10 de Pica, J de Pica, Q de Pica, K de Pica, A de Corazón, 2 de Corazón, 3 de Corazón, 4 de Corazón, 5 de Corazón, 6 de Corazón, 7 de Corazón, 8 de Corazón, 9 de Corazón, 10 de Corazón, J de Corazón, Q de Corazón, K de Corazón\n",
      "\n",
      "Baraja barajada:\n",
      "4 de Diamante, 8 de Diamante, 4 de Trébol, Q de Corazón, 8 de Pica, K de Pica, A de Corazón, 7 de Trébol, 5 de Trébol, A de Diamante, 6 de Corazón, 4 de Pica, 10 de Corazón, Q de Diamante, 10 de Diamante, 7 de Diamante, 8 de Trébol, 9 de Diamante, Q de Trébol, 9 de Trébol, 10 de Trébol, 9 de Corazón, Q de Pica, 6 de Trébol, 3 de Corazón, A de Trébol, 5 de Diamante, 3 de Diamante, 2 de Trébol, 3 de Trébol, A de Pica, K de Trébol, J de Diamante, 5 de Pica, 2 de Diamante, 7 de Pica, 3 de Pica, 6 de Pica, 7 de Corazón, K de Diamante, J de Trébol, 9 de Pica, J de Pica, 8 de Corazón, 10 de Pica, 2 de Corazón, J de Corazón, 6 de Diamante, K de Corazón, 2 de Pica, 5 de Corazón, 4 de Corazón\n",
      "\n",
      "Robando 5 cartas:\n",
      "4 de Corazón\n",
      "5 de Corazón\n",
      "2 de Pica\n",
      "K de Corazón\n",
      "6 de Diamante\n",
      "\n",
      "Cartas restantes en la baraja: 47\n",
      "\n",
      "Baraja reiniciada:\n",
      "A de Trébol, 2 de Trébol, 3 de Trébol, 4 de Trébol, 5 de Trébol, 6 de Trébol, 7 de Trébol, 8 de Trébol, 9 de Trébol, 10 de Trébol, J de Trébol, Q de Trébol, K de Trébol, A de Diamante, 2 de Diamante, 3 de Diamante, 4 de Diamante, 5 de Diamante, 6 de Diamante, 7 de Diamante, 8 de Diamante, 9 de Diamante, 10 de Diamante, J de Diamante, Q de Diamante, K de Diamante, A de Pica, 2 de Pica, 3 de Pica, 4 de Pica, 5 de Pica, 6 de Pica, 7 de Pica, 8 de Pica, 9 de Pica, 10 de Pica, J de Pica, Q de Pica, K de Pica, A de Corazón, 2 de Corazón, 3 de Corazón, 4 de Corazón, 5 de Corazón, 6 de Corazón, 7 de Corazón, 8 de Corazón, 9 de Corazón, 10 de Corazón, J de Corazón, Q de Corazón, K de Corazón\n"
     ]
    }
   ],
   "source": [
    "mi_baraja = Baraja()\n",
    "print(\"Baraja ordenada:\")\n",
    "print(mi_baraja)\n",
    "\n",
    "mi_baraja.barajar()\n",
    "print(\"\\nBaraja barajada:\")\n",
    "print(mi_baraja)\n",
    "\n",
    "print(\"\\nRobando 5 cartas:\")\n",
    "for _ in range(5):\n",
    "   print(mi_baraja.robar_carta())\n",
    "\n",
    "print(f\"\\nCartas restantes en la baraja: {len(mi_baraja.cartas)}\")\n",
    "\n",
    "mi_baraja.reiniciar_baraja()\n",
    "print(\"\\nBaraja reiniciada:\")\n",
    "print(mi_baraja)"
   ]
  },
  {
   "cell_type": "code",
   "execution_count": null,
   "id": "548cf446-db42-4a78-a424-7f57fd1a16ef",
   "metadata": {},
   "outputs": [],
   "source": []
  }
 ],
 "metadata": {
  "kernelspec": {
   "display_name": "Python 3 (ipykernel)",
   "language": "python",
   "name": "python3"
  },
  "language_info": {
   "codemirror_mode": {
    "name": "ipython",
    "version": 3
   },
   "file_extension": ".py",
   "mimetype": "text/x-python",
   "name": "python",
   "nbconvert_exporter": "python",
   "pygments_lexer": "ipython3",
   "version": "3.12.7"
  }
 },
 "nbformat": 4,
 "nbformat_minor": 5
}
