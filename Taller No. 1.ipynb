{
 "cells": [
  {
   "cell_type": "code",
   "execution_count": 8,
   "id": "ff3ace43-ad4d-4b9d-ad2d-3887ccad9ce3",
   "metadata": {},
   "outputs": [
    {
     "name": "stdout",
     "output_type": "stream",
     "text": [
      "Probabilidad estimada de que el pasajero 100 se siente en su asiento: 0.50252\n"
     ]
    }
   ],
   "source": [
    "import random\n",
    "\n",
    "def simular_embarque():\n",
    "   asientos = [0] * 100 \n",
    "   primer_asiento = random.randint(0, 99) \n",
    "   asientos[primer_asiento] = 1  \n",
    "    \n",
    "   for pasajero in range(1, 99): \n",
    "       if asientos[pasajero] == 0: \n",
    "           asientos[pasajero] = 1\n",
    "       else: \n",
    "           asientos[random.choice([i for i in range(100) if asientos[i] == 0])] = 1\n",
    "   return asientos[99] == 0  \n",
    "\n",
    "N = 100000\n",
    "exitos = sum(simular_embarque() for _ in range(N))\n",
    "\n",
    "probabilidad = exitos / N\n",
    "print(f\"Probabilidad estimada de que el pasajero 100 se siente en su asiento: {probabilidad}\")"
   ]
  },
  {
   "cell_type": "code",
   "execution_count": 10,
   "id": "4abf9a87-4246-4b16-b34c-1e049ad76d82",
   "metadata": {},
   "outputs": [
    {
     "name": "stdout",
     "output_type": "stream",
     "text": [
      "Estimación de π con 1000000 puntos: 3.139176\n"
     ]
    }
   ],
   "source": [
    "import random\n",
    "def estimar_pi(num_puntos):\n",
    "   dentro_circulo = 0 \n",
    "   for _ in range(num_puntos):\n",
    "       x = random.uniform(-0.5, 0.5)  \n",
    "       y = random.uniform(-0.5, 0.5)  \n",
    "  \n",
    "       if x**2 + y**2 <= 0.5**2:\n",
    "           dentro_circulo += 1\n",
    " \n",
    "   pi_estimado = 4 * (dentro_circulo / num_puntos)\n",
    "   return pi_estimado\n",
    "\n",
    "num_puntos = 1000000  \n",
    "pi_aproximado = estimar_pi(num_puntos)\n",
    "\n",
    "print(f\"Estimación de π con {num_puntos} puntos: {pi_aproximado}\")"
   ]
  },
  {
   "cell_type": "code",
   "execution_count": null,
   "id": "a74e981e-335d-4dc5-a50e-48573ec99689",
   "metadata": {},
   "outputs": [],
   "source": []
  }
 ],
 "metadata": {
  "kernelspec": {
   "display_name": "Python 3 (ipykernel)",
   "language": "python",
   "name": "python3"
  },
  "language_info": {
   "codemirror_mode": {
    "name": "ipython",
    "version": 3
   },
   "file_extension": ".py",
   "mimetype": "text/x-python",
   "name": "python",
   "nbconvert_exporter": "python",
   "pygments_lexer": "ipython3",
   "version": "3.12.7"
  }
 },
 "nbformat": 4,
 "nbformat_minor": 5
}
